{
  "nbformat": 4,
  "nbformat_minor": 0,
  "metadata": {
    "colab": {
      "provenance": [],
      "gpuType": "T4"
    },
    "kernelspec": {
      "name": "python3",
      "display_name": "Python 3"
    },
    "language_info": {
      "name": "python"
    },
    "accelerator": "GPU"
  },
  "cells": [
    {
      "cell_type": "code",
      "source": [
        "\n",
        "def double(price:int, zei:float):\n",
        "    zeikin=price*zei\n",
        "    total = price + zeikin\n",
        "\n",
        "    if zei == 0.1:\n",
        "        print(f\"お会計は{total}円。内消費税は{zeikin}円\")\n",
        "        return True\n",
        "    else:\n",
        "        print(\"消費税が間違っております\")\n",
        "        return False\n",
        "\n",
        "double(1200, 0.1)\n"
      ],
      "metadata": {
        "colab": {
          "base_uri": "https://localhost:8080/"
        },
        "id": "PnFjZrUS2LjJ",
        "outputId": "3c9215ba-0674-4568-c684-08c80660e02a"
      },
      "execution_count": 71,
      "outputs": [
        {
          "output_type": "stream",
          "name": "stdout",
          "text": [
            "お会計は1320.0円。内消費税は120.0円\n"
          ]
        },
        {
          "output_type": "execute_result",
          "data": {
            "text/plain": [
              "True"
            ]
          },
          "metadata": {},
          "execution_count": 71
        }
      ]
    },
    {
      "cell_type": "code",
      "source": [],
      "metadata": {
        "id": "M3R4ngdU6uAC"
      },
      "execution_count": null,
      "outputs": []
    }
  ]
}