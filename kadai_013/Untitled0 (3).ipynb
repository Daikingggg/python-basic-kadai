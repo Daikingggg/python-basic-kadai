{
  "nbformat": 4,
  "nbformat_minor": 0,
  "metadata": {
    "colab": {
      "provenance": [],
      "gpuType": "T4"
    },
    "kernelspec": {
      "name": "python3",
      "display_name": "Python 3"
    },
    "language_info": {
      "name": "python"
    },
    "accelerator": "GPU"
  },
  "cells": [
    {
      "cell_type": "code",
      "source": [
        "\n",
        "def double(price:int, zei:float):\n",
        "    total = price + (price * zei)\n",
        "\n",
        "    if zei == 0.1:\n",
        "        print(f\"{total}円\")\n",
        "        return True\n",
        "    else:\n",
        "        print(\"消費税が間違っております\")\n",
        "        return False\n",
        "\n",
        "double(1200, 0.1)\n"
      ],
      "metadata": {
        "colab": {
          "base_uri": "https://localhost:8080/"
        },
        "id": "PnFjZrUS2LjJ",
        "outputId": "a8a5f83c-ab7c-46f6-a682-e9c7012a6326"
      },
      "execution_count": 67,
      "outputs": [
        {
          "output_type": "stream",
          "name": "stdout",
          "text": [
            "1320.0円\n"
          ]
        },
        {
          "output_type": "execute_result",
          "data": {
            "text/plain": [
              "True"
            ]
          },
          "metadata": {},
          "execution_count": 67
        }
      ]
    },
    {
      "cell_type": "code",
      "source": [],
      "metadata": {
        "id": "M3R4ngdU6uAC"
      },
      "execution_count": null,
      "outputs": []
    }
  ]
}