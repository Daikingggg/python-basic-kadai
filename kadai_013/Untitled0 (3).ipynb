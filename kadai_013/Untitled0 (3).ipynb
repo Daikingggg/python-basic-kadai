{
  "nbformat": 4,
  "nbformat_minor": 0,
  "metadata": {
    "colab": {
      "provenance": [],
      "gpuType": "T4"
    },
    "kernelspec": {
      "name": "python3",
      "display_name": "Python 3"
    },
    "language_info": {
      "name": "python"
    },
    "accelerator": "GPU"
  },
  "cells": [
    {
      "cell_type": "code",
      "source": [
        "\n",
        "def double(price:int):\n",
        "    zeikin=price*zei\n",
        "    total = price + zeikin\n",
        "\n",
        "    if zei == 0.1:\n",
        "        print(f\"お会計は{total}円。内消費税は{zeikin}円\")\n",
        "        return total,zeikin\n",
        "\n",
        "\n",
        "double(1800)"
      ],
      "metadata": {
        "colab": {
          "base_uri": "https://localhost:8080/"
        },
        "id": "PnFjZrUS2LjJ",
        "outputId": "31fb75e8-9c97-478f-a439-9a1a135b9fda"
      },
      "execution_count": 99,
      "outputs": [
        {
          "output_type": "stream",
          "name": "stdout",
          "text": [
            "お会計は1980.0円。内消費税は180.0円\n"
          ]
        },
        {
          "output_type": "execute_result",
          "data": {
            "text/plain": [
              "(1980.0, 180.0)"
            ]
          },
          "metadata": {},
          "execution_count": 99
        }
      ]
    },
    {
      "cell_type": "code",
      "source": [],
      "metadata": {
        "id": "M3R4ngdU6uAC"
      },
      "execution_count": null,
      "outputs": []
    },
    {
      "cell_type": "code",
      "source": [],
      "metadata": {
        "id": "khkJJWt7ejRk"
      },
      "execution_count": null,
      "outputs": []
    }
  ]
}