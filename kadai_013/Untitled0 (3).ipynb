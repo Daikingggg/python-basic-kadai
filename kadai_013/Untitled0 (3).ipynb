{
  "nbformat": 4,
  "nbformat_minor": 0,
  "metadata": {
    "colab": {
      "provenance": [],
      "gpuType": "T4"
    },
    "kernelspec": {
      "name": "python3",
      "display_name": "Python 3"
    },
    "language_info": {
      "name": "python"
    },
    "accelerator": "GPU"
  },
  "cells": [
    {
      "cell_type": "code",
      "source": [
        "\n",
        "def double(price:int, zei:float):\n",
        "    zeikin=price*zei\n",
        "    total = price + zeikin\n",
        "\n",
        "    if zei == 0.1:\n",
        "        print(f\"お会計は{total}円。内消費税は{zeikin}円\")\n",
        "\n",
        "    else:\n",
        "        print(\"消費税が間違っております\")\n",
        "\n",
        "\n",
        "double(1200, 0.4)\n"
      ],
      "metadata": {
        "colab": {
          "base_uri": "https://localhost:8080/"
        },
        "id": "PnFjZrUS2LjJ",
        "outputId": "c81df255-1293-412f-f877-86a444455a1d"
      },
      "execution_count": 74,
      "outputs": [
        {
          "output_type": "stream",
          "name": "stdout",
          "text": [
            "消費税が間違っております\n"
          ]
        }
      ]
    },
    {
      "cell_type": "code",
      "source": [],
      "metadata": {
        "id": "M3R4ngdU6uAC"
      },
      "execution_count": null,
      "outputs": []
    }
  ]
}