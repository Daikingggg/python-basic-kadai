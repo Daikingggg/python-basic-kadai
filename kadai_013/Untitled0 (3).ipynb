{
  "nbformat": 4,
  "nbformat_minor": 0,
  "metadata": {
    "colab": {
      "provenance": [],
      "gpuType": "T4"
    },
    "kernelspec": {
      "name": "python3",
      "display_name": "Python 3"
    },
    "language_info": {
      "name": "python"
    },
    "accelerator": "GPU"
  },
  "cells": [
    {
      "cell_type": "code",
      "source": [
        "\n",
        "def double(price:int):\n",
        "    zeikin=price*zei\n",
        "    total = price + zeikin\n",
        "\n",
        "    if zei == 0.1:\n",
        "        print(f\"お会計は{total}円。内消費税は{zeikin}円\")\n",
        "        return\n",
        "    else:\n",
        "        print(\"消費税が間違っております\")\n",
        "        return\n",
        "\n",
        "double(1400)"
      ],
      "metadata": {
        "colab": {
          "base_uri": "https://localhost:8080/"
        },
        "id": "PnFjZrUS2LjJ",
        "outputId": "f6ca0486-c452-41f0-a241-43041129c7d8"
      },
      "execution_count": 89,
      "outputs": [
        {
          "output_type": "stream",
          "name": "stdout",
          "text": [
            "お会計は1540.0円。内消費税は140.0円\n"
          ]
        }
      ]
    },
    {
      "cell_type": "code",
      "source": [],
      "metadata": {
        "id": "M3R4ngdU6uAC"
      },
      "execution_count": null,
      "outputs": []
    }
  ]
}