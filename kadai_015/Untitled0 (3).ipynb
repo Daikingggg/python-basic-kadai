{
  "nbformat": 4,
  "nbformat_minor": 0,
  "metadata": {
    "colab": {
      "provenance": [],
      "gpuType": "T4"
    },
    "kernelspec": {
      "name": "python3",
      "display_name": "Python 3"
    },
    "language_info": {
      "name": "python"
    },
    "accelerator": "GPU"
  },
  "cells": [
    {
      "cell_type": "code",
      "source": [
        "class Human:\n",
        "\n",
        "    def __init__(self, name, age):\n",
        "        self.name = name\n",
        "        self.age = age\n",
        "    def printInfo(self):\n",
        "        print('私の名前は',self.name,'です')\n",
        "        print('私は',self.age,'才です')\n",
        "\n",
        "# インスタンス化する\n",
        "human = Human(\"侍太郎\", 36, )\n",
        "\n",
        "human.printInfo()"
      ],
      "metadata": {
        "colab": {
          "base_uri": "https://localhost:8080/"
        },
        "id": "gcyHvY9iuQnK",
        "outputId": "f64dcc92-2a72-439b-bf1a-ebf29fdbd959"
      },
      "execution_count": 136,
      "outputs": [
        {
          "output_type": "stream",
          "name": "stdout",
          "text": [
            "私の名前は 侍太郎 です\n",
            "私は 36 才です\n"
          ]
        }
      ]
    }
  ]
}