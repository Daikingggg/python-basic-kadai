{
  "nbformat": 4,
  "nbformat_minor": 0,
  "metadata": {
    "colab": {
      "provenance": [],
      "gpuType": "T4"
    },
    "kernelspec": {
      "name": "python3",
      "display_name": "Python 3"
    },
    "language_info": {
      "name": "python"
    },
    "accelerator": "GPU"
  },
  "cells": [
    {
      "cell_type": "code",
      "source": [
        "price1 = 100\n",
        "price2 = 200\n",
        "\n",
        "\n",
        "def show_total():\n",
        "    price1 = 100\n",
        "    price2 = 200\n",
        "    tax = 1.1\n",
        "    total=price1 + price2\n",
        "    return total,tax\n",
        "\n",
        "    print (total() * tax)\n",
        "\n",
        "total,tax=show_total()\n",
        "print(total*tax)\n",
        "\n"
      ],
      "metadata": {
        "colab": {
          "base_uri": "https://localhost:8080/"
        },
        "id": "M3R4ngdU6uAC",
        "outputId": "22aa2bcf-8fd9-4e7d-c09b-231ed6f8dcdb"
      },
      "execution_count": 119,
      "outputs": [
        {
          "output_type": "stream",
          "name": "stdout",
          "text": [
            "330.0\n"
          ]
        }
      ]
    }
  ]
}