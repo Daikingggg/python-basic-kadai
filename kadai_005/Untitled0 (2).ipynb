{
  "nbformat": 4,
  "nbformat_minor": 0,
  "metadata": {
    "colab": {
      "provenance": [],
      "gpuType": "T4"
    },
    "kernelspec": {
      "name": "python3",
      "display_name": "Python 3"
    },
    "language_info": {
      "name": "python"
    },
    "accelerator": "GPU"
  },
  "cells": [
    {
      "cell_type": "code",
      "source": [
        "Jouhen=10\n",
        "Kahen=20\n",
        "Takasa=5\n",
        "Menseki=(Jouhen + Kahen)*Takasa/2\n",
        "Answer=\"㎠\"\n",
        "\n",
        "\n",
        "print(f\"{Menseki}{Answer}\")\n"
      ],
      "metadata": {
        "colab": {
          "base_uri": "https://localhost:8080/"
        },
        "id": "xlsJWUbzLdxd",
        "outputId": "7319b310-909d-45b6-fdab-7fc01d9a3551"
      },
      "execution_count": 5,
      "outputs": [
        {
          "output_type": "stream",
          "name": "stdout",
          "text": [
            "75.0㎠\n"
          ]
        }
      ]
    }
  ]
}