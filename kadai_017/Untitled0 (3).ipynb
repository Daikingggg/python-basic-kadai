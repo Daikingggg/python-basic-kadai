{
  "nbformat": 4,
  "nbformat_minor": 0,
  "metadata": {
    "colab": {
      "provenance": [],
      "gpuType": "T4"
    },
    "kernelspec": {
      "name": "python3",
      "display_name": "Python 3"
    },
    "language_info": {
      "name": "python"
    },
    "accelerator": "GPU"
  },
  "cells": [
    {
      "cell_type": "code",
      "source": [
        "class Human:\n",
        "\n",
        "    def __init__(self, name, age):\n",
        "        self.name = name\n",
        "        self.age = age\n",
        "\n",
        "\n",
        "    def check_adult(self):\n",
        "        if  self.age > 20:\n",
        "          print(\"大人です\")\n",
        "          print('私の名前は',self.name,'です')\n",
        "          print('私は',self.age,'才です')\n",
        "        else:\n",
        "          print(\"大人ではない\")\n",
        "          print('私の名前は',self.name,'です')\n",
        "          print('私は',self.age,'才です')\n",
        "\n",
        "# インスタンス化する\n",
        "human = Human(\"侍太郎\", 36 )\n",
        "human1 = Human(\"小次郎\", 19 )\n",
        "\n",
        "human.check_adult()\n",
        "human1.check_adult()\n"
      ],
      "metadata": {
        "colab": {
          "base_uri": "https://localhost:8080/"
        },
        "id": "gcyHvY9iuQnK",
        "outputId": "f7e873d2-3166-404a-c148-d9e9130f2f2a"
      },
      "execution_count": 14,
      "outputs": [
        {
          "output_type": "stream",
          "name": "stdout",
          "text": [
            "大人です\n",
            "私の名前は 侍太郎 です\n",
            "私は 36 才です\n",
            "大人ではない\n",
            "私の名前は 小次郎 です\n",
            "私は 19 才です\n"
          ]
        }
      ]
    },
    {
      "cell_type": "code",
      "source": [
        "import time\n",
        "\n",
        "print(time.time())\n",
        "\n",
        "print(time.strftime(\"%Y年%m月%d日%H時%M分%S秒\",time.localtime()))\n"
      ],
      "metadata": {
        "colab": {
          "base_uri": "https://localhost:8080/"
        },
        "id": "gPJAYhF_9EtG",
        "outputId": "3e4f74f0-ad53-44c1-ad36-c3c179188ee6"
      },
      "execution_count": 137,
      "outputs": [
        {
          "output_type": "stream",
          "name": "stdout",
          "text": [
            "1726811129.2664897\n",
            "2024年09月20日05時45分29秒\n"
          ]
        }
      ]
    }
  ]
}