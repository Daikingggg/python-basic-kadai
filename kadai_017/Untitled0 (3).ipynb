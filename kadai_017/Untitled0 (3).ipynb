{
  "nbformat": 4,
  "nbformat_minor": 0,
  "metadata": {
    "colab": {
      "provenance": [],
      "gpuType": "T4"
    },
    "kernelspec": {
      "name": "python3",
      "display_name": "Python 3"
    },
    "language_info": {
      "name": "python"
    },
    "accelerator": "GPU"
  },
  "cells": [
    {
      "cell_type": "code",
      "source": [
        "class Human:\n",
        "\n",
        "    def __init__(self, name, age):\n",
        "        self.name = name\n",
        "        self.age = age\n",
        "\n",
        "\n",
        "    def check_adult(self):\n",
        "        if  self.age >= 20:\n",
        "          print(\"大人であるのは以下の人です\")\n",
        "          print(self.name)\n",
        "          print('この人は',self.age,'才です')\n",
        "        else:\n",
        "          print(\"大人でないのは以下の人です\")\n",
        "          print(self.name)\n",
        "          print('この人は',self.age,'才です')\n",
        "\n",
        "# インスタンス化する\n",
        "human = Human(\"侍太郎\", 36 )\n",
        "human1 = Human(\"小次郎\", 19 )\n",
        "human2 = Human(\"林\", 20)\n",
        "\n",
        "\n",
        "human.check_adult()\n",
        "human1.check_adult()\n",
        "human2.check_adult()\n"
      ],
      "metadata": {
        "colab": {
          "base_uri": "https://localhost:8080/"
        },
        "id": "gcyHvY9iuQnK",
        "outputId": "fca3896d-c5b1-451f-efad-9a16b534c747"
      },
      "execution_count": 19,
      "outputs": [
        {
          "output_type": "stream",
          "name": "stdout",
          "text": [
            "大人であるのは以下の人です\n",
            "侍太郎\n",
            "この人は 36 才です\n",
            "大人でないのは以下の人です\n",
            "小次郎\n",
            "この人は 19 才です\n",
            "大人であるのは以下の人です\n",
            "林\n",
            "この人は 20 才です\n"
          ]
        }
      ]
    }
  ]
}