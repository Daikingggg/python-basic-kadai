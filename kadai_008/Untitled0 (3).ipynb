{
  "nbformat": 4,
  "nbformat_minor": 0,
  "metadata": {
    "colab": {
      "provenance": [],
      "gpuType": "T4"
    },
    "kernelspec": {
      "name": "python3",
      "display_name": "Python 3"
    },
    "language_info": {
      "name": "python"
    },
    "accelerator": "GPU"
  },
  "cells": [
    {
      "cell_type": "code",
      "source": [
        "import random\n",
        "\n",
        "var = random.randint(0,100)\n",
        "var1= var%3\n",
        "var2= var%5\n",
        "\n",
        "print(var)\n",
        "\n",
        "if var1 == 0   :\n",
        "  print(\"Fizz\")\n",
        "else:\n",
        "  print(\"\")\n",
        "\n",
        "if var2==0:\n",
        "  print(\"Buzz\")\n",
        "else:\n",
        "  print(\"\")\n",
        "\n",
        "\n",
        "\n"
      ],
      "metadata": {
        "colab": {
          "base_uri": "https://localhost:8080/"
        },
        "id": "hbiSDYtptzJP",
        "outputId": "ee570c98-dfb3-4f91-d8ce-c14ce60ac389"
      },
      "execution_count": 57,
      "outputs": [
        {
          "output_type": "stream",
          "name": "stdout",
          "text": [
            "64\n",
            "\n",
            "\n"
          ]
        }
      ]
    }
  ]
}