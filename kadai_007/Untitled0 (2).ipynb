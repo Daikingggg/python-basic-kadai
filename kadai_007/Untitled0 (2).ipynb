{
  "nbformat": 4,
  "nbformat_minor": 0,
  "metadata": {
    "colab": {
      "provenance": [],
      "gpuType": "T4"
    },
    "kernelspec": {
      "name": "python3",
      "display_name": "Python 3"
    },
    "language_info": {
      "name": "python"
    },
    "accelerator": "GPU"
  },
  "cells": [
    {
      "cell_type": "code",
      "source": [
        "array = [ \"月曜日は晴れです\",\"火曜日は雨です\",\"水曜日は晴れです\", \"木曜日は晴れです\" ,\"金曜日は曇りです\",\"土曜日は曇りのうち雨です\", \"日曜日は雷雨です\"]\n",
        "dictionery = {\"mon\": \"晴れ\" ,\"tue\": \"雨\", \"wed\" : \"晴れ\", \"thu\": \"晴れ\", \"fri\": \"曇り\", \"sat\":\"曇りのうち雨\", \"sun\": \"雷雨\"}\n",
        "\n",
        "print(array[2])\n",
        "print(dictionery[\"wed\"])\n"
      ],
      "metadata": {
        "colab": {
          "base_uri": "https://localhost:8080/"
        },
        "id": "YQy8D7Ssk-HH",
        "outputId": "612dd931-250d-49d7-f786-dc51004c1a77"
      },
      "execution_count": 16,
      "outputs": [
        {
          "output_type": "stream",
          "name": "stdout",
          "text": [
            "水曜日は晴れです\n",
            "晴れ\n"
          ]
        }
      ]
    }
  ]
}